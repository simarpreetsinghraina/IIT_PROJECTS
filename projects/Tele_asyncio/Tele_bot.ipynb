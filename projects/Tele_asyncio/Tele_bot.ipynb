{
  "nbformat": 4,
  "nbformat_minor": 0,
  "metadata": {
    "colab": {
      "provenance": []
    },
    "kernelspec": {
      "name": "python3",
      "display_name": "Python 3"
    },
    "language_info": {
      "name": "python"
    }
  },
  "cells": [
    {
      "cell_type": "code",
      "execution_count": 1,
      "metadata": {
        "colab": {
          "base_uri": "https://localhost:8080/"
        },
        "id": "jL343Y8a4nC_",
        "outputId": "66d19466-3e36-4b49-ebef-a359744b688b"
      },
      "outputs": [
        {
          "output_type": "stream",
          "name": "stdout",
          "text": [
            "Requirement already satisfied: pyrogram in /usr/local/lib/python3.11/dist-packages (2.0.106)\n",
            "Requirement already satisfied: tgcrypto in /usr/local/lib/python3.11/dist-packages (1.2.5)\n",
            "Requirement already satisfied: pyaes==1.6.1 in /usr/local/lib/python3.11/dist-packages (from pyrogram) (1.6.1)\n",
            "Requirement already satisfied: pysocks==1.7.1 in /usr/local/lib/python3.11/dist-packages (from pyrogram) (1.7.1)\n"
          ]
        }
      ],
      "source": [
        "!pip install pyrogram tgcrypto\n"
      ]
    },
    {
      "cell_type": "code",
      "source": [
        "import asyncio\n",
        "from pyrogram import Client, filters, idle\n",
        "\n",
        "# Replace with your own credentials\n",
        "api_id = 20763003\n",
        "api_hash = \"cd6b98749979648c859618ba3ef3f0ed\"\n",
        "bot_token = \"7294412548:AAHweqLolvJB5NX0c5V1YUmiQq2b0Ryt5gw\"\n",
        "\n",
        "bot = Client(\"my_async_bot\", api_id=api_id, api_hash=api_hash, bot_token=bot_token)\n"
      ],
      "metadata": {
        "id": "yjhwXwfx4xCZ"
      },
      "execution_count": 2,
      "outputs": []
    },
    {
      "cell_type": "code",
      "source": [
        "@bot.on_message(filters.command(\"start\"))\n",
        "async def start(client, message):\n",
        "    await message.reply(\"Hey! I'm your async bot. 🤖 Send me a message!\")\n",
        "\n",
        "@bot.on_message(filters.command(\"help\"))\n",
        "async def help_cmd(client, message):\n",
        "    await message.reply(\"Use /start to begin, /about to know more.\")\n",
        "\n",
        "@bot.on_message(filters.command(\"about\"))\n",
        "async def about_cmd(client, message):\n",
        "    await message.reply(\"I'm built using Pyrogram with asyncio in Python. 🚀\")\n"
      ],
      "metadata": {
        "id": "_1o08M2Q8n_M"
      },
      "execution_count": 3,
      "outputs": []
    },
    {
      "cell_type": "code",
      "source": [
        "import random\n",
        "\n",
        "@bot.on_message(filters.command(\"joke\"))\n",
        "async def joke_handler(client, message):\n",
        "    jokes = [\n",
        "        \"Why don't scientists trust atoms? Because they make up everything!\",\n",
        "        \"Why did the computer go to therapy? It had too many bytes of trauma.\",\n",
        "        \"Parallel lines have so much in common… it’s a shame they’ll never meet.\"\n",
        "    ]\n",
        "    await message.reply(random.choice(jokes))\n",
        "\n",
        "@bot.on_message(filters.command(\"quote\"))\n",
        "async def quote_handler(client, message):\n",
        "    quotes = [\n",
        "        \"“The best way to get started is to quit talking and begin doing.” – Walt Disney\",\n",
        "        \"“Success is not final, failure is not fatal: It is the courage to continue that counts.” – Winston Churchill\",\n",
        "        \"“Your time is limited, so don’t waste it living someone else’s life.” – Steve Jobs\"\n",
        "    ]\n",
        "    await message.reply(random.choice(quotes))\n",
        "\n",
        "@bot.on_message(filters.command(\"notes\"))\n",
        "async def notes_handler(client, message):\n",
        "    await message.reply(\"🗒️ You can create and manage your notes in future updates!\")"
      ],
      "metadata": {
        "id": "N2vWL5Cj-qkv"
      },
      "execution_count": 7,
      "outputs": []
    },
    {
      "cell_type": "code",
      "source": [
        "await bot.start()\n",
        "await idle()\n",
        "await bot.stop()"
      ],
      "metadata": {
        "colab": {
          "base_uri": "https://localhost:8080/"
        },
        "id": "cul-yvWB8wqN",
        "outputId": "5bf984e1-3c32-48dc-ef14-3fcca490689d"
      },
      "execution_count": 11,
      "outputs": [
        {
          "output_type": "execute_result",
          "data": {
            "text/plain": [
              "<pyrogram.client.Client at 0x7cc79dcf6890>"
            ]
          },
          "metadata": {},
          "execution_count": 11
        }
      ]
    }
  ]
}